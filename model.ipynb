{
 "cells": [
  {
   "cell_type": "code",
   "execution_count": 1,
   "metadata": {
    "collapsed": true
   },
   "outputs": [],
   "source": [
    "import csv\n",
    "import cv2\n",
    "import numpy as np\n",
    "from random import *"
   ]
  },
  {
   "cell_type": "code",
   "execution_count": 2,
   "metadata": {
    "collapsed": true
   },
   "outputs": [],
   "source": [
    "#Read the lines from excel sheet which contains the record of steering angles along with the corresponding images\n",
    "lines=[]\n",
    "with open('./data/driving_log.csv') as csvfile:\n",
    "    reader=csv.reader(csvfile)\n",
    "    for line in reader:\n",
    "        lines.append(line)"
   ]
  },
  {
   "cell_type": "code",
   "execution_count": 3,
   "metadata": {
    "collapsed": true
   },
   "outputs": [],
   "source": [
    "#images list contains list of randomly selected images for each steering angle. For the left image an offset of 0.25 is added to \n",
    "#steering angle , for right image an offset of 0.25 is subtracted from the steering angle while for the center image the steering \n",
    "# angle is left as it is . This is done to keep the vehicle align with the center of road.\n",
    "images=[]\n",
    "measurements=[]\n",
    "for line in lines[1:]:\n",
    "    index = randint(0,2)\n",
    "    current_path = './data/'+line[index].strip()\n",
    "    image =  cv2.imread(current_path)\n",
    "    #image = cv2.cvtColor(cv2.imread(current_path), cv2.COLOR_BGR2RGB)\n",
    "    \n",
    "    images.append(image)\n",
    "    \n",
    "    if (index==0):\n",
    "        measurement=float(line[3])\n",
    "    if (index==1):\n",
    "        measurement=float(line[3])+0.25\n",
    "    if (index==2):\n",
    "        measurement=float(line[3])-0.25\n",
    "    measurements.append(measurement)\n",
    "    \n",
    "    \n",
    "    "
   ]
  },
  {
   "cell_type": "code",
   "execution_count": 4,
   "metadata": {
    "collapsed": true
   },
   "outputs": [],
   "source": [
    "#Randomly fliping the images and steering angle corrsponding to those images \n",
    "augment_images=[]\n",
    "augment_measurement=[]\n",
    "for image,measurement in zip(images,measurements):\n",
    "    flip_prob = np.random.random()\n",
    "    if flip_prob > 0.5:\n",
    "        augment_images.append(cv2.flip(image,1))\n",
    "        augment_measurement.append(measurement*-1)\n",
    "    augment_images.append(image)\n",
    "    augment_measurement.append(measurement)\n",
    "    "
   ]
  },
  {
   "cell_type": "code",
   "execution_count": 5,
   "metadata": {
    "collapsed": true
   },
   "outputs": [],
   "source": [
    "X_train = np.array(augment_images)\n",
    "y_train = np.array(augment_measurement)"
   ]
  },
  {
   "cell_type": "code",
   "execution_count": 6,
   "metadata": {},
   "outputs": [
    {
     "name": "stdout",
     "output_type": "stream",
     "text": [
      "(12006, 160, 320, 3)\n",
      "(12006,)\n"
     ]
    }
   ],
   "source": [
    "print(X_train.shape)\n",
    "print(y_train.shape)"
   ]
  },
  {
   "cell_type": "code",
   "execution_count": 7,
   "metadata": {},
   "outputs": [
    {
     "name": "stderr",
     "output_type": "stream",
     "text": [
      "Using TensorFlow backend.\n"
     ]
    }
   ],
   "source": [
    "#Convolution Model to train the Network\n",
    "\n",
    "from keras.models import Sequential\n",
    "from keras.layers import Flatten,Dense,Lambda,Conv2D,Dropout,Cropping2D,Convolution2D\n",
    "\n",
    "\n",
    "model = Sequential()\n",
    "#To Normalize the data\n",
    "model.add(Lambda(lambda x:x/255.0 - 0.5,input_shape=(160,320,3)))\n",
    "#Reduce the size of the image to train the images faster\n",
    "model.add(Cropping2D(cropping=((50,20), (0,0))))\n",
    "\n",
    "#Layer 1: Conv layer with 24 5x5 filters\n",
    "model.add(Convolution2D(24,5,5,activation='relu',subsample=(2,2)))\n",
    "#Layer 2: Conv layer with 36 5x5 filters\n",
    "model.add(Convolution2D(36,5,5,activation='relu',subsample=(2,2)))\n",
    "#Layer 3: Conv layer with 48 5x5 filters\n",
    "model.add(Convolution2D(48,5,5,activation='relu',subsample=(2,2)))\n",
    "#Layer 4: Conv layer with 64 3x3\n",
    "model.add(Convolution2D(64,3,3,activation='relu',subsample=(1,1)))\n",
    "#Layer 5: Conv layer with 64 3x3\n",
    "model.add(Convolution2D(64,3,3,activation='relu',subsample=(1,1)))\n",
    "# Flatten the output\n",
    "model.add(Flatten())\n",
    "#layer 6\n",
    "model.add(Dense(100,activation='relu'))\n",
    "model.add(Dropout(0.4))\n",
    "#layer 7\n",
    "model.add(Dense(50,activation='relu'))\n",
    "model.add(Dropout(0.3))\n",
    "#layer 8\n",
    "model.add(Dense(10,activation='linear'))\n",
    "model.add(Dropout(0.2))\n",
    "\n",
    "# Finally a single output, since this is a regression problem\n",
    "model.add(Dense(1))\n",
    "\n",
    "model.compile(loss='mse',optimizer='adam')\n"
   ]
  },
  {
   "cell_type": "code",
   "execution_count": 8,
   "metadata": {},
   "outputs": [
    {
     "name": "stdout",
     "output_type": "stream",
     "text": [
      "Train on 8404 samples, validate on 3602 samples\n",
      "Epoch 1/5\n",
      "8404/8404 [==============================] - 28s - loss: 0.0347 - val_loss: 0.0269\n",
      "Epoch 2/5\n",
      "8404/8404 [==============================] - 26s - loss: 0.0276 - val_loss: 0.0244\n",
      "Epoch 3/5\n",
      "8404/8404 [==============================] - 26s - loss: 0.0247 - val_loss: 0.0240\n",
      "Epoch 4/5\n",
      "8404/8404 [==============================] - 26s - loss: 0.0235 - val_loss: 0.0235\n",
      "Epoch 5/5\n",
      "8404/8404 [==============================] - 26s - loss: 0.0222 - val_loss: 0.0240\n"
     ]
    }
   ],
   "source": [
    "#Execute and Save the model\n",
    "history_object=model.fit(X_train,y_train,validation_split=0.3,shuffle=True,nb_epoch=5)\n",
    "model.save('model.h5')"
   ]
  },
  {
   "cell_type": "code",
   "execution_count": 9,
   "metadata": {},
   "outputs": [
    {
     "data": {
      "image/png": "[encoded data removed]",
      "text/plain": [
       "<matplotlib.figure.Figure at 0x7f960429d470>"
      ]
     },
     "metadata": {},
     "output_type": "display_data"
    }
   ],
   "source": [
    "#Graph for the training and validation loss for each epoch\n",
    "import matplotlib.pyplot as plt\n",
    "plt.plot(history_object.history['loss'])\n",
    "plt.plot(history_object.history['val_loss'])\n",
    "plt.title('model mean squared error loss')\n",
    "plt.ylabel('mean squared error loss')\n",
    "plt.xlabel('epoch')\n",
    "plt.legend(['training set', 'validation set'], loc='upper right')\n",
    "plt.show()"
   ]
  },
  {
   "cell_type": "code",
   "execution_count": null,
   "metadata": {
    "collapsed": true
   },
   "outputs": [],
   "source": []
  }
 ],
 "metadata": {
  "kernelspec": {
   "display_name": "Python 3",
   "language": "python",
   "name": "python3"
  },
  "language_info": {
   "codemirror_mode": {
    "name": "ipython",
    "version": 3
   },
   "file_extension": ".py",
   "mimetype": "text/x-python",
   "name": "python",
   "nbconvert_exporter": "python",
   "pygments_lexer": "ipython3",
   "version": "3.5.2"
  },
  "widgets": {
   "state": {},
   "version": "1.1.2"
  }
 },
 "nbformat": 4,
 "nbformat_minor": 2
}
